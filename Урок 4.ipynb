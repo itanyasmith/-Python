{
 "cells": [
  {
   "cell_type": "markdown",
   "metadata": {},
   "source": [
    "# Цикл while"
   ]
  },
  {
   "cell_type": "markdown",
   "metadata": {},
   "source": [
    "Задачка найти и посчитать все гласные в строке"
   ]
  },
  {
   "cell_type": "code",
   "execution_count": 8,
   "metadata": {},
   "outputs": [],
   "source": [
    "poem = \"\"\"Буря мглою небо кроет, Вихри снежные крутя; То, как зверь, она завоет, То заплачет, как дитя, То по кровле обветшалой Вдруг соломой зашумит, То, как путник запоздалый, К нам в окошко застучит.\"\"\""
   ]
  },
  {
   "cell_type": "code",
   "execution_count": 9,
   "metadata": {},
   "outputs": [],
   "source": [
    "# while условие:\n",
    "    #тело цикла"
   ]
  },
  {
   "cell_type": "code",
   "execution_count": 10,
   "metadata": {},
   "outputs": [],
   "source": [
    "index = 0"
   ]
  },
  {
   "cell_type": "code",
   "execution_count": 11,
   "metadata": {},
   "outputs": [],
   "source": [
    "vowels = 'аоэеиыуёюя'"
   ]
  },
  {
   "cell_type": "code",
   "execution_count": 12,
   "metadata": {},
   "outputs": [],
   "source": [
    "poem_vowels = ''"
   ]
  },
  {
   "cell_type": "code",
   "execution_count": 13,
   "metadata": {},
   "outputs": [],
   "source": [
    "while index != len(poem):\n",
    "    if poem[index] in vowels:\n",
    "        poem_vowels += poem[index]\n",
    "    index += 1"
   ]
  },
  {
   "cell_type": "code",
   "execution_count": 14,
   "metadata": {},
   "outputs": [
    {
     "data": {
      "text/plain": [
       "60"
      ]
     },
     "execution_count": 14,
     "metadata": {},
     "output_type": "execute_result"
    }
   ],
   "source": [
    "len(poem_vowels)"
   ]
  },
  {
   "cell_type": "markdown",
   "metadata": {},
   "source": [
    "# Цикл for"
   ]
  },
  {
   "cell_type": "markdown",
   "metadata": {},
   "source": [
    "Задачка на сумму"
   ]
  },
  {
   "cell_type": "code",
   "execution_count": 18,
   "metadata": {},
   "outputs": [],
   "source": [
    "male_list = [65, 60, 45, 55]\n",
    "female_list = [75, 34, 68, 90]"
   ]
  },
  {
   "cell_type": "code",
   "execution_count": 19,
   "metadata": {},
   "outputs": [
    {
     "name": "stdout",
     "output_type": "stream",
     "text": [
      "Возраст женщины больше возаста мужчины на 10 лет\n",
      "Возраст мужчины больше возаста женщины на 31 лет\n",
      "Возраст женщины больше возаста мужчины на 3 лет\n",
      "Возраст женщины больше возаста мужчины на 25 лет\n",
      "Возраст женщины больше возаста мужчины на 15 лет\n",
      "Возраст мужчины больше возаста женщины на 26 лет\n",
      "Возраст женщины больше возаста мужчины на 8 лет\n",
      "Возраст женщины больше возаста мужчины на 30 лет\n",
      "Возраст женщины больше возаста мужчины на 30 лет\n",
      "Возраст мужчины больше возаста женщины на 11 лет\n",
      "Возраст женщины больше возаста мужчины на 23 лет\n",
      "Возраст женщины больше возаста мужчины на 45 лет\n",
      "Возраст женщины больше возаста мужчины на 20 лет\n",
      "Возраст мужчины больше возаста женщины на 21 лет\n",
      "Возраст женщины больше возаста мужчины на 13 лет\n",
      "Возраст женщины больше возаста мужчины на 35 лет\n"
     ]
    }
   ],
   "source": [
    "for male_age in male_list:\n",
    "    for female_age in female_list:\n",
    "        if male_age > female_age:\n",
    "            print(f'Возраст мужчины больше возаста женщины на {male_age - female_age} лет')\n",
    "        else:\n",
    "            print(f'Возраст женщины больше возаста мужчины на {female_age - male_age} лет')\n",
    "       "
   ]
  },
  {
   "cell_type": "code",
   "execution_count": null,
   "metadata": {},
   "outputs": [],
   "source": []
  },
  {
   "cell_type": "code",
   "execution_count": null,
   "metadata": {},
   "outputs": [],
   "source": []
  }
 ],
 "metadata": {
  "kernelspec": {
   "display_name": "Python 3 (ipykernel)",
   "language": "python",
   "name": "python3"
  },
  "language_info": {
   "codemirror_mode": {
    "name": "ipython",
    "version": 3
   },
   "file_extension": ".py",
   "mimetype": "text/x-python",
   "name": "python",
   "nbconvert_exporter": "python",
   "pygments_lexer": "ipython3",
   "version": "3.11.5"
  }
 },
 "nbformat": 4,
 "nbformat_minor": 4
}
