{
 "cells": [
  {
   "cell_type": "code",
   "execution_count": 1,
   "id": "32951f8e",
   "metadata": {},
   "outputs": [],
   "source": [
    "my_list = [1, 2, 3]"
   ]
  },
  {
   "cell_type": "code",
   "execution_count": 2,
   "id": "c18eaec2",
   "metadata": {},
   "outputs": [
    {
     "data": {
      "text/plain": [
       "6"
      ]
     },
     "execution_count": 2,
     "metadata": {},
     "output_type": "execute_result"
    }
   ],
   "source": [
    "sum(my_list)"
   ]
  },
  {
   "cell_type": "code",
   "execution_count": 3,
   "id": "c0a73c8e",
   "metadata": {},
   "outputs": [
    {
     "name": "stdout",
     "output_type": "stream",
     "text": [
      "6\n"
     ]
    }
   ],
   "source": [
    "summa = 0\n",
    "\n",
    "for num in my_list:\n",
    "    summa+=num\n",
    "    \n",
    "print(summa)"
   ]
  },
  {
   "cell_type": "code",
   "execution_count": 4,
   "id": "89641603",
   "metadata": {},
   "outputs": [],
   "source": [
    "def our_sum(a_list):\n",
    "    summa = 0\n",
    "\n",
    "    for num in a_list:\n",
    "        summa+=num\n",
    "    return summa"
   ]
  },
  {
   "cell_type": "code",
   "execution_count": 5,
   "id": "caeb4257",
   "metadata": {},
   "outputs": [
    {
     "data": {
      "text/plain": [
       "14"
      ]
     },
     "execution_count": 5,
     "metadata": {},
     "output_type": "execute_result"
    }
   ],
   "source": [
    "our_sum([2, 3, 4, 5])"
   ]
  },
  {
   "cell_type": "code",
   "execution_count": 10,
   "id": "ef8f1608",
   "metadata": {},
   "outputs": [],
   "source": [
    "def say_hi():\n",
    "    print('Hi!')"
   ]
  },
  {
   "cell_type": "code",
   "execution_count": 11,
   "id": "d42ce682",
   "metadata": {},
   "outputs": [
    {
     "name": "stdout",
     "output_type": "stream",
     "text": [
      "Hi!\n"
     ]
    }
   ],
   "source": [
    "say_hi()"
   ]
  },
  {
   "cell_type": "code",
   "execution_count": 12,
   "id": "cf0f175a",
   "metadata": {},
   "outputs": [
    {
     "name": "stdout",
     "output_type": "stream",
     "text": [
      "Hi!\n",
      "None\n"
     ]
    }
   ],
   "source": [
    "print(say_hi())"
   ]
  },
  {
   "cell_type": "code",
   "execution_count": 13,
   "id": "49b27045",
   "metadata": {},
   "outputs": [],
   "source": [
    "def get_name():\n",
    "    name = input('Введите имя: ')\n",
    "    return name"
   ]
  },
  {
   "cell_type": "code",
   "execution_count": 14,
   "id": "a324ba36",
   "metadata": {},
   "outputs": [
    {
     "name": "stdout",
     "output_type": "stream",
     "text": [
      "Введите имя: Татьяна\n"
     ]
    },
    {
     "data": {
      "text/plain": [
       "'Татьяна'"
      ]
     },
     "execution_count": 14,
     "metadata": {},
     "output_type": "execute_result"
    }
   ],
   "source": [
    "get_name()"
   ]
  },
  {
   "cell_type": "code",
   "execution_count": 15,
   "id": "17866364",
   "metadata": {},
   "outputs": [],
   "source": [
    "def say_hi_to(name):\n",
    "    return f\"Привет, {name}!\""
   ]
  },
  {
   "cell_type": "code",
   "execution_count": 16,
   "id": "d5bcfd8b",
   "metadata": {},
   "outputs": [
    {
     "name": "stdout",
     "output_type": "stream",
     "text": [
      "Введите имя: Татьяна\n"
     ]
    },
    {
     "data": {
      "text/plain": [
       "'Привет, Татьяна!'"
      ]
     },
     "execution_count": 16,
     "metadata": {},
     "output_type": "execute_result"
    }
   ],
   "source": [
    "say_hi_to(get_name())"
   ]
  },
  {
   "cell_type": "code",
   "execution_count": 17,
   "id": "e229b743",
   "metadata": {},
   "outputs": [],
   "source": [
    "def say_hi_to(name, small_talk = 'Как дела?'):\n",
    "    return f\"Привет, {name}! {small_talk}\""
   ]
  },
  {
   "cell_type": "code",
   "execution_count": 18,
   "id": "a1364dc2",
   "metadata": {},
   "outputs": [
    {
     "name": "stdout",
     "output_type": "stream",
     "text": [
      "Введите имя: Татьяна\n"
     ]
    },
    {
     "data": {
      "text/plain": [
       "'Привет, Татьяна! Как дела?'"
      ]
     },
     "execution_count": 18,
     "metadata": {},
     "output_type": "execute_result"
    }
   ],
   "source": [
    "say_hi_to(get_name())"
   ]
  },
  {
   "cell_type": "code",
   "execution_count": 19,
   "id": "71e65a2e",
   "metadata": {},
   "outputs": [
    {
     "name": "stdout",
     "output_type": "stream",
     "text": [
      "Введите имя: Татьяна\n"
     ]
    },
    {
     "data": {
      "text/plain": [
       "'Привет, Татьяна! Че каво?'"
      ]
     },
     "execution_count": 19,
     "metadata": {},
     "output_type": "execute_result"
    }
   ],
   "source": [
    "say_hi_to(get_name(), small_talk = 'Че каво?')"
   ]
  },
  {
   "cell_type": "code",
   "execution_count": 20,
   "id": "bdb67bc3",
   "metadata": {},
   "outputs": [],
   "source": [
    "def clean_tel(tel_num):\n",
    "    clean_tel = tel_num.replace(' ','').replace('-','').replace(')','').replace('(','')\n",
    "    return clean_tel"
   ]
  },
  {
   "cell_type": "code",
   "execution_count": 21,
   "id": "fd041016",
   "metadata": {},
   "outputs": [
    {
     "data": {
      "text/plain": [
       "'89876571211'"
      ]
     },
     "execution_count": 21,
     "metadata": {},
     "output_type": "execute_result"
    }
   ],
   "source": [
    "clean_tel('8-(987)-657 12 11')"
   ]
  },
  {
   "cell_type": "code",
   "execution_count": 22,
   "id": "7c49201c",
   "metadata": {},
   "outputs": [],
   "source": [
    "phone_book = {'Alice': '8-987-657 12 11', 'Bob':'89012345678', 'Jack':'8 (9 1 2) 3 4 5 6 7 8 9'}"
   ]
  },
  {
   "cell_type": "code",
   "execution_count": 23,
   "id": "4690f6a5",
   "metadata": {},
   "outputs": [],
   "source": [
    "def clean_book(book, data = []):\n",
    "    for name, tel in book.items():\n",
    "        data.append([name, clean_tel(tel)])\n",
    "    return data   \n",
    "    "
   ]
  },
  {
   "cell_type": "code",
   "execution_count": 24,
   "id": "a627e397",
   "metadata": {},
   "outputs": [
    {
     "data": {
      "text/plain": [
       "[['Alice', '89876571211'], ['Bob', '89012345678'], ['Jack', '89123456789']]"
      ]
     },
     "execution_count": 24,
     "metadata": {},
     "output_type": "execute_result"
    }
   ],
   "source": [
    "clean_book(phone_book)"
   ]
  },
  {
   "cell_type": "code",
   "execution_count": 25,
   "id": "81128121",
   "metadata": {},
   "outputs": [],
   "source": [
    "def sum_two(x, y):\n",
    "    return x+y"
   ]
  },
  {
   "cell_type": "code",
   "execution_count": 26,
   "id": "c326e41e",
   "metadata": {},
   "outputs": [
    {
     "data": {
      "text/plain": [
       "3"
      ]
     },
     "execution_count": 26,
     "metadata": {},
     "output_type": "execute_result"
    }
   ],
   "source": [
    "sum_two(1,2)"
   ]
  },
  {
   "cell_type": "code",
   "execution_count": 27,
   "id": "6cc9b0d5",
   "metadata": {},
   "outputs": [],
   "source": [
    "func = lambda x, y : x+y"
   ]
  },
  {
   "cell_type": "code",
   "execution_count": 28,
   "id": "5df8cda7",
   "metadata": {},
   "outputs": [
    {
     "data": {
      "text/plain": [
       "3"
      ]
     },
     "execution_count": 28,
     "metadata": {},
     "output_type": "execute_result"
    }
   ],
   "source": [
    "func(1, 2)"
   ]
  },
  {
   "cell_type": "code",
   "execution_count": 29,
   "id": "7cf86daf",
   "metadata": {},
   "outputs": [
    {
     "data": {
      "text/plain": [
       "3"
      ]
     },
     "execution_count": 29,
     "metadata": {},
     "output_type": "execute_result"
    }
   ],
   "source": [
    "(lambda x, y : x+y) (1,2)"
   ]
  },
  {
   "cell_type": "code",
   "execution_count": null,
   "id": "7bc14245",
   "metadata": {},
   "outputs": [],
   "source": []
  }
 ],
 "metadata": {
  "kernelspec": {
   "display_name": "Python 3 (ipykernel)",
   "language": "python",
   "name": "python3"
  },
  "language_info": {
   "codemirror_mode": {
    "name": "ipython",
    "version": 3
   },
   "file_extension": ".py",
   "mimetype": "text/x-python",
   "name": "python",
   "nbconvert_exporter": "python",
   "pygments_lexer": "ipython3",
   "version": "3.11.5"
  }
 },
 "nbformat": 4,
 "nbformat_minor": 5
}
