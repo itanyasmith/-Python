{
 "cells": [
  {
   "cell_type": "markdown",
   "metadata": {},
   "source": [
    "# Условия if, elif, else"
   ]
  },
  {
   "cell_type": "markdown",
   "metadata": {},
   "source": [
    "Задачка по налогам\n",
    "\n",
    "    ИП1: 15 %\n",
    "    ИП2: 6 %\n",
    "    СЗ: 6 %\n",
    "    ФЛ: 13 %\n",
    "\n"
   ]
  },
  {
   "cell_type": "code",
   "execution_count": 13,
   "metadata": {},
   "outputs": [
    {
     "name": "stdout",
     "output_type": "stream",
     "text": [
      "Василий Теркин\n"
     ]
    }
   ],
   "source": [
    "name = input()"
   ]
  },
  {
   "cell_type": "code",
   "execution_count": 14,
   "metadata": {},
   "outputs": [
    {
     "data": {
      "text/plain": [
       "'Василий Теркин'"
      ]
     },
     "execution_count": 14,
     "metadata": {},
     "output_type": "execute_result"
    }
   ],
   "source": [
    "name"
   ]
  },
  {
   "cell_type": "code",
   "execution_count": 35,
   "metadata": {},
   "outputs": [
    {
     "name": "stdout",
     "output_type": "stream",
     "text": [
      "ФЛ\n"
     ]
    }
   ],
   "source": [
    "business_type = input()"
   ]
  },
  {
   "cell_type": "code",
   "execution_count": 43,
   "metadata": {},
   "outputs": [
    {
     "name": "stdout",
     "output_type": "stream",
     "text": [
      "13000\n"
     ]
    }
   ],
   "source": [
    "income =int(input())"
   ]
  },
  {
   "cell_type": "code",
   "execution_count": 44,
   "metadata": {},
   "outputs": [],
   "source": [
    "zp_sechina = 600000000 // 12"
   ]
  },
  {
   "cell_type": "code",
   "execution_count": 45,
   "metadata": {},
   "outputs": [],
   "source": [
    "minimum_income = 14000"
   ]
  },
  {
   "cell_type": "code",
   "execution_count": 46,
   "metadata": {},
   "outputs": [
    {
     "name": "stdout",
     "output_type": "stream",
     "text": [
      "Василий, вы заригистрированы как ФЛ ваш налог составит 1690 рублей, а чистый доход -- 11310 рублей.\n",
      "Василий, ваша зп меньше прожиточного минимума на 2690.0\n"
     ]
    }
   ],
   "source": [
    "if business_type == 'ИП1':\n",
    "    tax = income * 0.15\n",
    "    net_income = income - tax \n",
    "    print(f'{name}, ваш налог составит {int(tax)} рублей, а чистый доход -- {int(net_income)} рублей.')\n",
    "elif business_type == 'ИП2':\n",
    "    tax = income * 0.06\n",
    "    net_income = income - tax \n",
    "    print(f'{name}, вы зарегистрированы как {business_type} ваш налог составит {int(tax)} рублей, а чистый доход -- {int(net_income)} рублей.')\n",
    "else:\n",
    "    tax = income * 0.13\n",
    "    net_income = income - tax \n",
    "    print(f'{name.split()[0]}, вы зарегистрированы как {business_type} ваш налог составит {int(tax)} рублей, а чистый доход -- {int(net_income)} рублей.')\n",
    "    if net_income >= zp_sechina:\n",
    "        print(f'{name.split()[0]}, это, конечно, круто, но будьте осторожны: ваша зп {net_income} больше зп Сечина на {net_income - zp_sechina}')\n",
    "    elif net_income <= minimum_income:\n",
    "        print(f'{name.split()[0]}, ваша зп меньше прожиточного минимума на {minimum_income - net_income}')\n",
    "    else:\n",
    "        print(f'{name.split()[0]}, не парьтесь, ваша зп меньше зп Сечина на {zp_sechina - net_income}')\n",
    "        \n",
    "    \n",
    "    \n",
    "    "
   ]
  },
  {
   "cell_type": "code",
   "execution_count": null,
   "metadata": {},
   "outputs": [],
   "source": []
  }
 ],
 "metadata": {
  "kernelspec": {
   "display_name": "Python 3 (ipykernel)",
   "language": "python",
   "name": "python3"
  },
  "language_info": {
   "codemirror_mode": {
    "name": "ipython",
    "version": 3
   },
   "file_extension": ".py",
   "mimetype": "text/x-python",
   "name": "python",
   "nbconvert_exporter": "python",
   "pygments_lexer": "ipython3",
   "version": "3.11.5"
  }
 },
 "nbformat": 4,
 "nbformat_minor": 4
}
