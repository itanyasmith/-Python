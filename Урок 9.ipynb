{
 "cells": [
  {
   "cell_type": "code",
   "execution_count": 1,
   "metadata": {},
   "outputs": [],
   "source": [
    "my_list=[6,7,3,8,1]"
   ]
  },
  {
   "cell_type": "code",
   "execution_count": 2,
   "metadata": {},
   "outputs": [
    {
     "name": "stdout",
     "output_type": "stream",
     "text": [
      "[6, 7, 3, 8, 1]\n"
     ]
    }
   ],
   "source": [
    "if my_list[0]>my_list[1]:\n",
    "    my_list[0],my_list[1]=my_list[1],my_list[0]\n",
    "print(my_list)"
   ]
  },
  {
   "cell_type": "code",
   "execution_count": 3,
   "metadata": {},
   "outputs": [
    {
     "name": "stdout",
     "output_type": "stream",
     "text": [
      "[6, 3, 7, 8, 1]\n"
     ]
    }
   ],
   "source": [
    "if my_list[1]>my_list[2]:\n",
    "    my_list[1],my_list[2]=my_list[2],my_list[1]\n",
    "print(my_list)"
   ]
  },
  {
   "cell_type": "code",
   "execution_count": 4,
   "metadata": {},
   "outputs": [
    {
     "name": "stdout",
     "output_type": "stream",
     "text": [
      "сравниваем 6 c 7\n",
      "[6, 7, 3, 8, 1]\n",
      "сравниваем 7 c 3\n",
      "[6, 3, 7, 8, 1]\n",
      "сравниваем 7 c 8\n",
      "[6, 3, 7, 8, 1]\n",
      "сравниваем 8 c 1\n",
      "[6, 3, 7, 1, 8]\n"
     ]
    }
   ],
   "source": [
    "my_list=[6,7,3,8,1]\n",
    "for i in range(len(my_list)-1):\n",
    "    print (f\"сравниваем {my_list[i]} c {my_list[i+1]}\")\n",
    "    if my_list[i]>my_list[i+1]:\n",
    "        my_list[i],my_list[i+1]=my_list[i+1],my_list[i]\n",
    "    print(my_list)\n",
    "        "
   ]
  },
  {
   "cell_type": "code",
   "execution_count": 8,
   "metadata": {},
   "outputs": [
    {
     "name": "stdout",
     "output_type": "stream",
     "text": [
      "сравниваем 6 c 7\n",
      "сравниваем 7 c 3\n",
      "сравниваем 7 c 8\n",
      "сравниваем 8 c 1\n",
      "[6, 3, 7, 1, 8]\n",
      "сравниваем 6 c 3\n",
      "сравниваем 6 c 7\n",
      "сравниваем 7 c 1\n",
      "[3, 6, 1, 7, 8]\n",
      "сравниваем 3 c 6\n",
      "сравниваем 6 c 1\n",
      "[3, 1, 6, 7, 8]\n",
      "сравниваем 3 c 1\n",
      "[1, 3, 6, 7, 8]\n"
     ]
    }
   ],
   "source": [
    "my_list=[6,7,3,8,1]\n",
    "for run in range (len(my_list)-1):\n",
    "    for i in range(len(my_list)-1-run):\n",
    "        print (f\"сравниваем {my_list[i]} c {my_list[i+1]}\")\n",
    "        if my_list[i]>my_list[i+1]:\n",
    "            my_list[i],my_list[i+1]=my_list[i+1],my_list[i]\n",
    "    print(my_list)"
   ]
  },
  {
   "cell_type": "code",
   "execution_count": 15,
   "metadata": {},
   "outputs": [],
   "source": [
    "def bubble_sort(my_list):\n",
    "    for run in range (len(my_list)-1):\n",
    "        for i in range(len(my_list)-1-run):\n",
    "            #print (f\"сравниваем {my_list[i]} c {my_list[i+1]}\")\n",
    "            if my_list[i]>my_list[i+1]:\n",
    "                my_list[i],my_list[i+1]=my_list[i+1],my_list[i]\n",
    "    return my_list"
   ]
  },
  {
   "cell_type": "code",
   "execution_count": 16,
   "metadata": {},
   "outputs": [
    {
     "data": {
      "text/plain": [
       "[0, 1, 2, 3, 6, 8, 35, 57, 76]"
      ]
     },
     "execution_count": 16,
     "metadata": {},
     "output_type": "execute_result"
    }
   ],
   "source": [
    "my_list=[1,6,8,3,2,57,76,35,0]\n",
    "bubble_sort(my_list)"
   ]
  },
  {
   "cell_type": "code",
   "execution_count": 18,
   "metadata": {},
   "outputs": [
    {
     "data": {
      "text/plain": [
       "[0, 1, 2, 3, 6, 8, 35, 57, 76]"
      ]
     },
     "execution_count": 18,
     "metadata": {},
     "output_type": "execute_result"
    }
   ],
   "source": [
    "my_list=[1,6,8,3,2,57,76,35,0]\n",
    "my_list.sort()\n",
    "my_list"
   ]
  },
  {
   "cell_type": "code",
   "execution_count": 19,
   "metadata": {},
   "outputs": [
    {
     "data": {
      "text/plain": [
       "[0, 1, 2, 3, 6, 8, 35, 57, 76]"
      ]
     },
     "execution_count": 19,
     "metadata": {},
     "output_type": "execute_result"
    }
   ],
   "source": [
    "my_list=[1,6,8,3,2,57,76,35,0]\n",
    "sorted(my_list)"
   ]
  },
  {
   "cell_type": "code",
   "execution_count": 20,
   "metadata": {},
   "outputs": [
    {
     "data": {
      "text/plain": [
       "[1, 6, 8, 3, 2, 57, 76, 35, 0]"
      ]
     },
     "execution_count": 20,
     "metadata": {},
     "output_type": "execute_result"
    }
   ],
   "source": [
    "my_list"
   ]
  },
  {
   "cell_type": "code",
   "execution_count": 21,
   "metadata": {},
   "outputs": [
    {
     "data": {
      "text/plain": [
       "[' ', 'В', 'а', 'е', 'ж', 'и', 'и', 'и', 'н', 'о', 'р', 'с', 'т', 'ы']"
      ]
     },
     "execution_count": 21,
     "metadata": {},
     "output_type": "execute_result"
    }
   ],
   "source": [
    "string='Важные истории'\n",
    "sorted(string)"
   ]
  },
  {
   "cell_type": "code",
   "execution_count": 22,
   "metadata": {},
   "outputs": [
    {
     "data": {
      "text/plain": [
       "['income', 'name', 'wife_income']"
      ]
     },
     "execution_count": 22,
     "metadata": {},
     "output_type": "execute_result"
    }
   ],
   "source": [
    "fsb_dict={'name':'Бортников А.В.','income':13626718.98,'wife_income':261956.95}\n",
    "sorted(fsb_dict)"
   ]
  },
  {
   "cell_type": "code",
   "execution_count": 23,
   "metadata": {},
   "outputs": [
    {
     "data": {
      "text/plain": [
       "[76, 57, 35, 8, 6, 3, 2, 1, 0]"
      ]
     },
     "execution_count": 23,
     "metadata": {},
     "output_type": "execute_result"
    }
   ],
   "source": [
    "my_list=[1,6,8,3,2,57,76,35,0]\n",
    "sorted(my_list,reverse=True)"
   ]
  },
  {
   "cell_type": "code",
   "execution_count": 24,
   "metadata": {},
   "outputs": [
    {
     "data": {
      "text/plain": [
       "[' ', 'а', 'В', 'е', 'ж', 'и', 'и', 'и', 'н', 'о', 'р', 'с', 'т', 'ы']"
      ]
     },
     "execution_count": 24,
     "metadata": {},
     "output_type": "execute_result"
    }
   ],
   "source": [
    "string='Важные истории'\n",
    "sorted(string,key=str.lower)"
   ]
  },
  {
   "cell_type": "code",
   "execution_count": 25,
   "metadata": {},
   "outputs": [],
   "source": [
    "fsb_list=[['Бортников А.В.',13626718.98,261956.95],['Смирнов С.М.',11882496.91,593918.65],['Кулишов В.Г.',6795228.14,861350.27]]"
   ]
  },
  {
   "cell_type": "code",
   "execution_count": 27,
   "metadata": {},
   "outputs": [
    {
     "data": {
      "text/plain": [
       "[['Бортников А.В.', 13626718.98, 261956.95],\n",
       " ['Кулишов В.Г.', 6795228.14, 861350.27],\n",
       " ['Смирнов С.М.', 11882496.91, 593918.65]]"
      ]
     },
     "execution_count": 27,
     "metadata": {},
     "output_type": "execute_result"
    }
   ],
   "source": [
    "sorted(fsb_list)"
   ]
  },
  {
   "cell_type": "code",
   "execution_count": 28,
   "metadata": {},
   "outputs": [],
   "source": [
    "def fsb_income(i):\n",
    "    return i[1]"
   ]
  },
  {
   "cell_type": "code",
   "execution_count": 29,
   "metadata": {},
   "outputs": [
    {
     "data": {
      "text/plain": [
       "[['Кулишов В.Г.', 6795228.14, 861350.27],\n",
       " ['Смирнов С.М.', 11882496.91, 593918.65],\n",
       " ['Бортников А.В.', 13626718.98, 261956.95]]"
      ]
     },
     "execution_count": 29,
     "metadata": {},
     "output_type": "execute_result"
    }
   ],
   "source": [
    "sorted(fsb_list,key=fsb_income)"
   ]
  },
  {
   "cell_type": "code",
   "execution_count": 30,
   "metadata": {},
   "outputs": [],
   "source": [
    "fsb=[{'name':'Бортников А.В.','income':13626718.98,'wife_income':261956.95},\n",
    "     {'name':'Смирнов С.М.','income':11882496.91,'wife_income':593918.65},\n",
    "     {'name':'Кулишов В.Г.','income':6795228.14,'wife_income':861350.27},\n",
    "     {'name':'Купряжкин А.Н.','income':7406264.90,'wife_income':315794.75},\n",
    "     {'name':'Сироткин И.Г.','income':5912584.62,'wife_income':393095.22}]"
   ]
  },
  {
   "cell_type": "code",
   "execution_count": 31,
   "metadata": {},
   "outputs": [],
   "source": [
    "def fsb_wife_income(i):\n",
    "    return i.get('wife_income')"
   ]
  },
  {
   "cell_type": "code",
   "execution_count": 32,
   "metadata": {},
   "outputs": [
    {
     "data": {
      "text/plain": [
       "[{'name': 'Бортников А.В.', 'income': 13626718.98, 'wife_income': 261956.95},\n",
       " {'name': 'Купряжкин А.Н.', 'income': 7406264.9, 'wife_income': 315794.75},\n",
       " {'name': 'Сироткин И.Г.', 'income': 5912584.62, 'wife_income': 393095.22},\n",
       " {'name': 'Смирнов С.М.', 'income': 11882496.91, 'wife_income': 593918.65},\n",
       " {'name': 'Кулишов В.Г.', 'income': 6795228.14, 'wife_income': 861350.27}]"
      ]
     },
     "execution_count": 32,
     "metadata": {},
     "output_type": "execute_result"
    }
   ],
   "source": [
    "sorted(fsb,key=fsb_wife_income)"
   ]
  },
  {
   "cell_type": "code",
   "execution_count": null,
   "metadata": {},
   "outputs": [],
   "source": []
  }
 ],
 "metadata": {
  "kernelspec": {
   "display_name": "Python 3 (ipykernel)",
   "language": "python",
   "name": "python3"
  },
  "language_info": {
   "codemirror_mode": {
    "name": "ipython",
    "version": 3
   },
   "file_extension": ".py",
   "mimetype": "text/x-python",
   "name": "python",
   "nbconvert_exporter": "python",
   "pygments_lexer": "ipython3",
   "version": "3.11.5"
  }
 },
 "nbformat": 4,
 "nbformat_minor": 4
}
